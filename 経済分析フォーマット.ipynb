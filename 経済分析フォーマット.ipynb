{
  "nbformat": 4,
  "nbformat_minor": 0,
  "metadata": {
    "colab": {
      "provenance": [],
      "authorship_tag": "ABX9TyM6pj851U0fxy0VleCjcmOs",
      "include_colab_link": true
    },
    "kernelspec": {
      "name": "python3",
      "display_name": "Python 3"
    },
    "language_info": {
      "name": "python"
    }
  },
  "cells": [
    {
      "cell_type": "markdown",
      "metadata": {
        "id": "view-in-github",
        "colab_type": "text"
      },
      "source": [
        "<a href=\"https://colab.research.google.com/github/ownopinion-wq/Economic-Analysis/blob/main/%E7%B5%8C%E6%B8%88%E5%88%86%E6%9E%90%E3%83%95%E3%82%A9%E3%83%BC%E3%83%9E%E3%83%83%E3%83%88.ipynb\" target=\"_parent\"><img src=\"https://colab.research.google.com/assets/colab-badge.svg\" alt=\"Open In Colab\"/></a>"
      ]
    },
    {
      "cell_type": "code",
      "execution_count": 1,
      "metadata": {
        "colab": {
          "base_uri": "https://localhost:8080/"
        },
        "id": "Bz5WEXXpHzeO",
        "outputId": "db84d4d5-60a3-409c-fba9-f904d74c7c66"
      },
      "outputs": [
        {
          "output_type": "stream",
          "name": "stdout",
          "text": [
            "--- パラメータの読み込みが完了しました ---\n",
            "社会的割引率: 12.0%\n",
            "年間期待便益: 10,000 万円\n"
          ]
        }
      ],
      "source": [
        "# --- ▼▼▼ パラメータ入力表 ▼▼▼ ---\n",
        "#\n",
        "# ここに、分析したい事業の数値を入力してください。\n",
        "#\n",
        "\n",
        "# 1. 社会的割引率 (%)\n",
        "# 例: 12% -> 12.0\n",
        "SDR_PERCENT = 12.0\n",
        "\n",
        "# 2. 施設建設期間 (年)\n",
        "CONSTRUCTION_YEARS = 4\n",
        "\n",
        "# 3. 耐用年数 (年)\n",
        "LIFESPAN_YEARS = 50\n",
        "\n",
        "# 4. 施設建設費 (万円)\n",
        "# 例: 5億円 -> 50000\n",
        "TOTAL_CONSTRUCTION_COST = 50000\n",
        "\n",
        "# 5. 運転・維持管理費 (万円/年)\n",
        "# 例: 500万円 -> 500\n",
        "OM_COST_ANNUAL = 500\n",
        "\n",
        "# 6. 施設更新費\n",
        "# f円をg年ごとに支出\n",
        "RENEWAL_COST_VALUE = 10000  # f (万円) -> 例: 1億円 -> 10000\n",
        "RENEWAL_COST_INTERVAL = 10  # g (年) -> 例: 10年ごと -> 10\n",
        "\n",
        "# 7. 便益\n",
        "# c年間（耐用年数）の合計便益額 h (万円)\n",
        "# 例: 50年間で50億円 -> 500000\n",
        "TOTAL_LIFESPAN_BENEFIT = 500000\n",
        "\n",
        "#\n",
        "# --- ▲▲▲ 入力ここまで ▲▲▲ ---\n",
        "\n",
        "\n",
        "# --- 内部計算用の変数を準備 ---\n",
        "SDR = SDR_PERCENT / 100.0\n",
        "# 年間期待便益を計算\n",
        "BASE_BENEFIT_ANNUAL = TOTAL_LIFESPAN_BENEFIT / LIFESPAN_YEARS\n",
        "\n",
        "print(\"--- パラメータの読み込みが完了しました ---\")\n",
        "print(f\"社会的割引率: {SDR_PERCENT}%\")\n",
        "print(f\"年間期待便益: {BASE_BENEFIT_ANNUAL:,.0f} 万円\")"
      ]
    },
    {
      "cell_type": "code",
      "source": [
        "# 必要なライブラリのインストールとインポート\n",
        "!pip install -q japanize-matplotlib numpy_financial\n",
        "import numpy as np\n",
        "import numpy_financial as npf\n",
        "import matplotlib.pyplot as plt\n",
        "import random\n",
        "import japanize_matplotlib\n",
        "\n",
        "# --- 2. 基準ケース（ベースケース）の分析 ---\n",
        "print(\"\\n--- 基準ケース（ベースケース）の分析結果 ---\")\n",
        "TOTAL_YEARS = CONSTRUCTION_YEARS + LIFESPAN_YEARS\n",
        "\n",
        "# --- 費用キャッシュフローの作成 ---\n",
        "costs = np.zeros(TOTAL_YEARS)\n",
        "costs[0:CONSTRUCTION_YEARS] = TOTAL_CONSTRUCTION_COST / CONSTRUCTION_YEARS\n",
        "costs[CONSTRUCTION_YEARS:] += OM_COST_ANNUAL\n",
        "for i in range(1, (LIFESPAN_YEARS // RENEWAL_COST_INTERVAL) + 1):\n",
        "    year_index = CONSTRUCTION_YEARS + (i * RENEWAL_COST_INTERVAL) - 1\n",
        "    costs[year_index] += RENEWAL_COST_VALUE\n",
        "\n",
        "# --- 便益キャッシュフローの作成 ---\n",
        "benefits = np.zeros(TOTAL_YEARS)\n",
        "benefits[CONSTRUCTION_YEARS:] = BASE_BENEFIT_ANNUAL\n",
        "\n",
        "# --- 指標の計算 ---\n",
        "net_cash_flow = np.insert(benefits - costs, 0, 0)\n",
        "benefits_pv_stream = np.insert(benefits, 0, 0)\n",
        "costs_pv_stream = np.insert(costs, 0, 0)\n",
        "pv_b = npf.npv(SDR, benefits_pv_stream)\n",
        "pv_c = npf.npv(SDR, costs_pv_stream)\n",
        "npv_base = pv_b - pv_c\n",
        "bc_base = pv_b / pv_c\n",
        "eirr_base = npf.irr(net_cash_flow)\n",
        "\n",
        "print(f\"総便益の現在価値 (PV(B)): {pv_b:,.0f} 万円\")\n",
        "print(f\"総費用の現在価値 (PV(C)): {pv_c:,.0f} 万円\")\n",
        "print(\"-\" * 25)\n",
        "print(f\"NPV (B-C): {npv_base:,.0f} 万円\")\n",
        "print(f\"B/C (B/C): {bc_base:.2f}\")\n",
        "print(f\"EIRR (経済的内部収益率): {eirr_base:.2%}\")\n",
        "print(\"-\" * 40)\n",
        "\n",
        "# --- 3. モンテカルロ・シミュレーション ---\n",
        "print(\"\\n--- モンテカルロ・シミュレーションの分析結果 ---\")\n",
        "NUM_SIMULATIONS = 10000\n",
        "construction_cost_multipliers = [1.0, 1.1, 1.2, 1.3]\n",
        "renewal_cost_multipliers = [1.0, 1.1, 1.2, 1.3]\n",
        "benefit_multipliers = [1.0, 1.1, 1.2, 1.3]\n",
        "eirr_results = []\n",
        "\n",
        "for _ in range(NUM_SIMULATIONS):\n",
        "    sim_construction_multiplier = random.choice(construction_cost_multipliers)\n",
        "    sim_renewal_multiplier = random.choice(renewal_cost_multipliers)\n",
        "    sim_benefit_multiplier = random.choice(benefit_multipliers)\n",
        "    sim_costs = np.zeros(TOTAL_YEARS)\n",
        "    sim_construction_cost_total = TOTAL_CONSTRUCTION_COST * sim_construction_multiplier\n",
        "    sim_costs[0:CONSTRUCTION_YEARS] = sim_construction_cost_total / CONSTRUCTION_YEARS\n",
        "    sim_costs[CONSTRUCTION_YEARS:] += OM_COST_ANNUAL\n",
        "    sim_renewal_cost = RENEWAL_COST_VALUE * sim_renewal_multiplier\n",
        "    for i in range(1, (LIFESPAN_YEARS // RENEWAL_COST_INTERVAL) + 1):\n",
        "        year_index = CONSTRUCTION_YEARS + (i * RENEWAL_COST_INTERVAL) - 1\n",
        "        sim_costs[year_index] += sim_renewal_cost\n",
        "    sim_benefits = np.zeros(TOTAL_YEARS)\n",
        "    sim_annual_benefit = BASE_BENEFIT_ANNUAL * sim_benefit_multiplier\n",
        "    sim_benefits[CONSTRUCTION_YEARS:] = sim_annual_benefit\n",
        "    sim_net_cash_flow = np.insert(sim_benefits - sim_costs, 0, 0)\n",
        "    try:\n",
        "        eirr_results.append(npf.irr(sim_net_cash_flow))\n",
        "    except:\n",
        "        eirr_results.append(-1.0)\n",
        "\n",
        "eirr_results_np = np.array(eirr_results)\n",
        "print(f\"シミュレーション回数: {NUM_SIMULATIONS}回\")\n",
        "print(f\"平均EIRR: {np.mean(eirr_results_np):.2%}\")\n",
        "print(f\"EIRRが社会的割引率({SDR_PERCENT:.0f}%)を下回る確率: {np.sum(eirr_results_np < SDR) / NUM_SIMULATIONS:.2%}\")\n",
        "\n",
        "# --- グラフ描画 ---\n",
        "plt.figure(figsize=(10, 6))\n",
        "eirr_percent_results = eirr_results_np * 100\n",
        "plt.hist(eirr_percent_results, bins=50, range=(0, 30), alpha=0.7, label='EIRR分布')\n",
        "plt.axvline(np.mean(eirr_percent_results), color='red', linestyle='dashed', linewidth=2, label=f'平均EIRR: {np.mean(eirr_results_np):.2%}')\n",
        "plt.axvline(SDR * 100, color='black', linestyle='solid', linewidth=2, label=f'社会的割引率: {SDR_PERCENT:.0f}%')\n",
        "plt.title('EIRRのモンテカルロ・シミュレーション結果')\n",
        "plt.xlabel('EIRR (%)')\n",
        "plt.ylabel('頻度')\n",
        "plt.legend()\n",
        "plt.grid(True)\n",
        "plt.show()"
      ],
      "metadata": {
        "colab": {
          "base_uri": "https://localhost:8080/",
          "height": 862
        },
        "id": "pG6qglMVJFJA",
        "outputId": "79a6580e-824b-40fa-cc42-8310ee572f6d"
      },
      "execution_count": 2,
      "outputs": [
        {
          "output_type": "stream",
          "name": "stdout",
          "text": [
            "\u001b[?25l     \u001b[90m━━━━━━━━━━━━━━━━━━━━━━━━━━━━━━━━━━━━━━━━\u001b[0m \u001b[32m0.0/4.1 MB\u001b[0m \u001b[31m?\u001b[0m eta \u001b[36m-:--:--\u001b[0m\r\u001b[2K     \u001b[91m━━━━━━━━━━━━━━━━━━━━━━━━━━━━━━━━━━━━━━━\u001b[0m\u001b[91m╸\u001b[0m \u001b[32m4.1/4.1 MB\u001b[0m \u001b[31m159.2 MB/s\u001b[0m eta \u001b[36m0:00:01\u001b[0m\r\u001b[2K     \u001b[90m━━━━━━━━━━━━━━━━━━━━━━━━━━━━━━━━━━━━━━━━\u001b[0m \u001b[32m4.1/4.1 MB\u001b[0m \u001b[31m83.2 MB/s\u001b[0m eta \u001b[36m0:00:00\u001b[0m\n",
            "\u001b[?25h  Preparing metadata (setup.py) ... \u001b[?25l\u001b[?25hdone\n",
            "  Building wheel for japanize-matplotlib (setup.py) ... \u001b[?25l\u001b[?25hdone\n",
            "\n",
            "--- 基準ケース（ベースケース）の分析結果 ---\n",
            "総便益の現在価値 (PV(B)): 52,777 万円\n",
            "総費用の現在価値 (PV(C)): 43,613 万円\n",
            "-------------------------\n",
            "NPV (B-C): 9,163 万円\n",
            "B/C (B/C): 1.21\n",
            "EIRR (経済的内部収益率): 14.50%\n",
            "----------------------------------------\n",
            "\n",
            "--- モンテカルロ・シミュレーションの分析結果 ---\n",
            "シミュレーション回数: 10000回\n",
            "平均EIRR: 14.67%\n",
            "EIRRが社会的割引率(12%)を下回る確率: 6.24%\n"
          ]
        },
        {
          "output_type": "display_data",
          "data": {
            "text/plain": [
              "<Figure size 1000x600 with 1 Axes>"
            ],
            "image/png": "[encoded data removed]"
          },
          "metadata": {}
        }
      ]
    }
  ]
}